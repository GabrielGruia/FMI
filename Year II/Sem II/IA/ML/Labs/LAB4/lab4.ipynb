{
 "cells": [
  {
   "cell_type": "code",
   "execution_count": 2,
   "metadata": {},
   "outputs": [],
   "source": [
    "import numpy as np\n",
    "from sklearn import svm\n",
    "from sklearn.preprocessing import StandardScaler, Normalizer\n",
    "from sklearn.metrics import f1_score, confusion_matrix"
   ]
  },
  {
   "cell_type": "code",
   "execution_count": 3,
   "metadata": {},
   "outputs": [],
   "source": [
    "trainSentences = np.load(\"data/training_sentences.npy\", allow_pickle=True)\n",
    "trainLabels = np.load(\"data/training_labels.npy\", allow_pickle=True)\n",
    "\n",
    "testSentences = np.load(\"data/test_sentences.npy\", allow_pickle=True)\n",
    "testLabels = np.load(\"data/test_labels.npy\", allow_pickle=True)"
   ]
  },
  {
   "cell_type": "code",
   "execution_count": 4,
   "metadata": {},
   "outputs": [],
   "source": [
    "def normalizeData(trainData, testData, metric=None):\n",
    "    match metric:\n",
    "        case \"standard\":\n",
    "            scaler = StandardScaler()\n",
    "            scaler.fit(trainData)\n",
    "            scaledTrainData = scaler.transform(trainData)\n",
    "            scaledTestData = scaler.transform(testData)\n",
    "            return scaledTrainData, scaledTestData\n",
    "        case \"L1\":\n",
    "            normalizer = Normalizer(norm='l1')\n",
    "            scaledTrainData = normalizer.transform(trainData)\n",
    "            scaledTestData = normalizer.transform(testData)\n",
    "            return scaledTrainData, scaledTestData\n",
    "        case \"L2\":\n",
    "            normalizer = Normalizer(norm='l2')\n",
    "            scaledTrainData = normalizer.transform(trainData)\n",
    "            scaledTestData = normalizer.transform(testData)\n",
    "            return scaledTrainData, scaledTestData\n",
    "        case _:\n",
    "            return trainData, testData"
   ]
  },
  {
   "cell_type": "code",
   "execution_count": 5,
   "metadata": {},
   "outputs": [],
   "source": [
    "class BagOfWords:\n",
    "    def __init__(self):\n",
    "        self.vocabulary = dict()\n",
    "    \n",
    "    def buildVocabulary(self, data):\n",
    "        nextID = len(self.vocabulary)\n",
    "        for message in data:\n",
    "            for word in message:\n",
    "                if word not in self.vocabulary:\n",
    "                    self.vocabulary[word] = nextID\n",
    "                    nextID += 1\n",
    "    \n",
    "    def getFeatures(self, data):\n",
    "        features = np.zeros((len(data), len(self.vocabulary)), dtype=int)\n",
    "        for i, message in enumerate(data):\n",
    "            for word in message:\n",
    "                if word in self.vocabulary:\n",
    "                    features[i][self.vocabulary[word]] += 1\n",
    "        return features"
   ]
  },
  {
   "cell_type": "code",
   "execution_count": 6,
   "metadata": {},
   "outputs": [
    {
     "data": {
      "text/plain": [
       "9522"
      ]
     },
     "execution_count": 6,
     "metadata": {},
     "output_type": "execute_result"
    }
   ],
   "source": [
    "bow = BagOfWords()\n",
    "bow.buildVocabulary(trainSentences)\n",
    "\n",
    "len(bow.vocabulary)"
   ]
  },
  {
   "cell_type": "code",
   "execution_count": 7,
   "metadata": {},
   "outputs": [],
   "source": [
    "normBowTrain, normBowTest = normalizeData(bow.getFeatures(trainSentences), bow.getFeatures(testSentences), \"L2\")"
   ]
  },
  {
   "cell_type": "code",
   "execution_count": 8,
   "metadata": {},
   "outputs": [
    {
     "name": "stdout",
     "output_type": "stream",
     "text": [
      "(3734, 9522)\n"
     ]
    },
    {
     "data": {
      "text/plain": [
       "array([[0.35355339, 0.35355339, 0.35355339, ..., 0.        , 0.        ,\n",
       "        0.        ],\n",
       "       [0.        , 0.        , 0.        , ..., 0.        , 0.        ,\n",
       "        0.        ],\n",
       "       [0.        , 0.        , 0.        , ..., 0.        , 0.        ,\n",
       "        0.        ],\n",
       "       ...,\n",
       "       [0.        , 0.        , 0.        , ..., 0.19611614, 0.19611614,\n",
       "        0.        ],\n",
       "       [0.        , 0.        , 0.        , ..., 0.        , 0.        ,\n",
       "        0.33333333],\n",
       "       [0.        , 0.        , 0.        , ..., 0.        , 0.        ,\n",
       "        0.        ]])"
      ]
     },
     "execution_count": 8,
     "metadata": {},
     "output_type": "execute_result"
    }
   ],
   "source": [
    "print(normBowTrain.shape)\n",
    "normBowTrain"
   ]
  },
  {
   "cell_type": "code",
   "execution_count": 9,
   "metadata": {},
   "outputs": [
    {
     "name": "stdout",
     "output_type": "stream",
     "text": [
      "(1840, 9522)\n"
     ]
    },
    {
     "data": {
      "text/plain": [
       "array([[0. , 0. , 0.5, ..., 0. , 0. , 0. ],\n",
       "       [0. , 0. , 0. , ..., 0. , 0. , 0. ],\n",
       "       [0. , 0. , 0. , ..., 0. , 0. , 0. ],\n",
       "       ...,\n",
       "       [0. , 0. , 0. , ..., 0. , 0. , 0. ],\n",
       "       [0. , 0. , 0. , ..., 0. , 0. , 0. ],\n",
       "       [0. , 0. , 0. , ..., 0. , 0. , 0. ]])"
      ]
     },
     "execution_count": 9,
     "metadata": {},
     "output_type": "execute_result"
    }
   ],
   "source": [
    "print(normBowTest.shape)\n",
    "normBowTest"
   ]
  },
  {
   "cell_type": "code",
   "execution_count": 10,
   "metadata": {},
   "outputs": [
    {
     "data": {
      "text/plain": [
       "SVC(C=1, kernel='linear')"
      ]
     },
     "execution_count": 10,
     "metadata": {},
     "output_type": "execute_result"
    }
   ],
   "source": [
    "svmBow = svm.SVC(C=1, kernel='linear')\n",
    "svmBow.fit(normBowTrain, trainLabels)"
   ]
  },
  {
   "cell_type": "code",
   "execution_count": 11,
   "metadata": {},
   "outputs": [
    {
     "data": {
      "text/plain": [
       "array([0, 0, 0, ..., 0, 0, 1])"
      ]
     },
     "execution_count": 11,
     "metadata": {},
     "output_type": "execute_result"
    }
   ],
   "source": [
    "predictedBowLabels = svmBow.predict(normBowTest)\n",
    "predictedBowLabels"
   ]
  },
  {
   "cell_type": "code",
   "execution_count": 12,
   "metadata": {},
   "outputs": [
    {
     "data": {
      "text/plain": [
       "0.9842391304347826"
      ]
     },
     "execution_count": 12,
     "metadata": {},
     "output_type": "execute_result"
    }
   ],
   "source": [
    "accuracy = np.mean(predictedBowLabels == testLabels)\n",
    "accuracy"
   ]
  },
  {
   "cell_type": "code",
   "execution_count": 13,
   "metadata": {},
   "outputs": [
    {
     "data": {
      "text/plain": [
       "0.9409368635437881"
      ]
     },
     "execution_count": 13,
     "metadata": {},
     "output_type": "execute_result"
    }
   ],
   "source": [
    "F1Score = f1_score(testLabels, predictedBowLabels)\n",
    "F1Score"
   ]
  },
  {
   "cell_type": "code",
   "execution_count": 14,
   "metadata": {},
   "outputs": [
    {
     "name": "stdout",
     "output_type": "stream",
     "text": [
      "1580 5\n",
      "24 231\n"
     ]
    }
   ],
   "source": [
    "confMatrix = confusion_matrix(testLabels, predictedBowLabels)\n",
    "\n",
    "TN, FP, FN, TP = confMatrix.ravel()\n",
    "\n",
    "print(TN, FP)\n",
    "print(FN, TP)"
   ]
  },
  {
   "cell_type": "code",
   "execution_count": 15,
   "metadata": {},
   "outputs": [],
   "source": [
    "coeff = svmBow.coef_\n",
    "indexes = np.argsort(coeff)[0]"
   ]
  },
  {
   "cell_type": "code",
   "execution_count": 16,
   "metadata": {},
   "outputs": [
    {
     "data": {
      "text/plain": [
       "['&lt#&gt', 'me', 'i', 'Going', 'him', 'Ok', 'I', 'Ill', 'my', 'Im']"
      ]
     },
     "execution_count": 16,
     "metadata": {},
     "output_type": "execute_result"
    }
   ],
   "source": [
    "mostPositive = np.array(list(bow.vocabulary.keys()))[indexes[:10]]\n",
    "list(mostPositive)"
   ]
  },
  {
   "cell_type": "code",
   "execution_count": 17,
   "metadata": {},
   "outputs": [
    {
     "data": {
      "text/plain": [
       "['Text', 'To', 'mobile', 'CALL', 'FREE', 'txt', '&', 'Call', 'Txt', 'STOP']"
      ]
     },
     "execution_count": 17,
     "metadata": {},
     "output_type": "execute_result"
    }
   ],
   "source": [
    "mostNegative = np.array(list(bow.vocabulary.keys()))[indexes[-10:]]\n",
    "list(mostNegative)"
   ]
  }
 ],
 "metadata": {
  "interpreter": {
   "hash": "27cfd4c09a6522eee305c42ac625359a38bc28b92588020f1e8f6071f6e6359f"
  },
  "kernelspec": {
   "display_name": "Python 3.10.4 64-bit (windows store)",
   "language": "python",
   "name": "python3"
  },
  "language_info": {
   "codemirror_mode": {
    "name": "ipython",
    "version": 3
   },
   "file_extension": ".py",
   "mimetype": "text/x-python",
   "name": "python",
   "nbconvert_exporter": "python",
   "pygments_lexer": "ipython3",
   "version": "3.10.4"
  },
  "orig_nbformat": 4
 },
 "nbformat": 4,
 "nbformat_minor": 2
}
