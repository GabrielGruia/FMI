{
 "cells": [
  {
   "cell_type": "markdown",
   "metadata": {},
   "source": [
    "### Functii NUMPY\n",
    "---\n",
    "\n",
    "```py\n",
    "# sorteaza array-ul\n",
    "np.sort(x)\n",
    "\n",
    "# returneaza indecsii care sorteaza array-ul\n",
    "np.argsort(x)\n",
    "\n",
    "# calculeaza numarul de aparatii al fiecarei valori din array\n",
    "np.bincount(x)\n",
    "# [1, 3, 1, 1, 0, 0, 0, 1]\n",
    "print(np.bincount(numpy.array([0, 1, 1, 3, 2, 1, 7])))\n",
    "\n",
    "# returneaza indecsii elementelor care satisfac conditia\n",
    "np.where(x == 3)\n",
    "\n",
    "# returneaza intersectia celor 2 array-uri\n",
    "np.intersect1d(x, y)\n",
    "\n",
    "# salveaza array-ul y in fisierul fisier.txt\n",
    "np.savetxt(‘fisier.txt’, y)\n",
    "```"
   ]
  },
  {
   "cell_type": "code",
   "execution_count": null,
   "metadata": {},
   "outputs": [],
   "source": [
    "import numpy as np\n",
    "import matplotlib.pyplot as plt"
   ]
  },
  {
   "cell_type": "code",
   "execution_count": null,
   "metadata": {},
   "outputs": [],
   "source": [
    "trainImages = np.loadtxt(\"data/train_images.txt\")\n",
    "trainLabels = np.loadtxt(\"data/train_labels.txt\").astype(int)\n",
    "testImages = np.loadtxt(\"data/test_images.txt\")\n",
    "testLabels = np.loadtxt(\"data/test_labels.txt\").astype(int)"
   ]
  },
  {
   "cell_type": "markdown",
   "metadata": {},
   "source": [
    "### Classification\n",
    "---\n",
    "<br>\n",
    "<div style=\"display: flex; flex: initial\">\n",
    "    <div style=\"display: flex; flex-direction: column; align-items: center\">\n",
    "        <img src=https://upload.wikimedia.org/wikipedia/commons/thumb/c/cc/Data3classes.png/273px-Data3classes.png>\n",
    "        <p>The dataset</p>\n",
    "    </div>\n",
    "    <div style=\"display: flex; flex-direction: column; align-items: center\">\n",
    "        <img src=https://upload.wikimedia.org/wikipedia/commons/thumb/5/52/Map1NN.png/274px-Map1NN.png>\n",
    "        <p>The 1NN classification map</p>\n",
    "    </div>\n",
    "    <div style=\"display: flex; flex-direction: column; align-items: center\">\n",
    "        <img src=https://upload.wikimedia.org/wikipedia/commons/thumb/8/8c/Map5NN.png/274px-Map5NN.png>\n",
    "        <p>The 5NN classification map</p>\n",
    "    </div>\n",
    "</div>\n",
    "<br>\n",
    "\n",
    "### Distance metrics\n",
    "---\n",
    "<br>\n",
    "<div style=\"display: flex; align-items: center;\">\n",
    "    <img src=https://www.saedsayad.com/images/KNN_similarity.png>\n",
    "    <div style=\"display: flex; flex-direction: column; align-items: center\">\n",
    "        <h4>L1 - Manhattan distance</h4>\n",
    "        <h4>L2 - Euclidian distance</h4>\n",
    "    </div>\n",
    "</div>\n",
    "<br>"
   ]
  },
  {
   "cell_type": "code",
   "execution_count": null,
   "metadata": {},
   "outputs": [],
   "source": [
    "class KnnClassifier:\n",
    "    def __init__(self, trainImages, trainLabels):\n",
    "        self.trainImages = trainImages\n",
    "        self.trainLabels = trainLabels\n",
    "    \n",
    "    def classifyImages(self, testImages, nrNeighbours=3, metric=\"L2\"):\n",
    "        def mode(arr):\n",
    "            return np.bincount(arr).argmax()\n",
    "        def classifyImage(testImg, nrNeighbours=3, metric=\"L2\"):\n",
    "            match metric:\n",
    "                case \"L1\":\n",
    "                    distances = np.sum(abs(self.trainImages - testImg), axis=1)\n",
    "                case \"L2\":\n",
    "                    distances = np.sqrt(np.sum((self.trainImages - testImg) ** 2, axis=1))\n",
    "                case _:\n",
    "                    raise ValueError(f\"Metric <{metric}> unavailable!\")\n",
    "            \n",
    "            nearestIndices = np.argsort(distances)[:nrNeighbours]\n",
    "            nearestLabels = self.trainLabels[nearestIndices]\n",
    "            predictedLabel = mode(nearestLabels)\n",
    "            return predictedLabel\n",
    "            \n",
    "        predictedLabels = np.array([classifyImage(img, nrNeighbours, metric) for img in testImages])\n",
    "        return predictedLabels"
   ]
  },
  {
   "cell_type": "code",
   "execution_count": null,
   "metadata": {},
   "outputs": [],
   "source": [
    "def accuracy(trueLables, predictedLabels):\n",
    "    return np.mean(trueLables == predictedLabels)"
   ]
  },
  {
   "cell_type": "code",
   "execution_count": null,
   "metadata": {},
   "outputs": [],
   "source": [
    "knnClassifier = KnnClassifier(trainImages, trainLabels)"
   ]
  },
  {
   "cell_type": "code",
   "execution_count": null,
   "metadata": {},
   "outputs": [],
   "source": [
    "predictedLabels_3NN_L2 = knnClassifier.classifyImages(testImages, 3, \"L2\")\n",
    "np.savetxt(\"predictii_3NN_L2_MNIST.txt\", predictedLabels_3NN_L2, fmt=\"%i\")"
   ]
  },
  {
   "cell_type": "code",
   "execution_count": null,
   "metadata": {},
   "outputs": [],
   "source": [
    "accuracy_3NN_L2 = accuracy(testLabels, predictedLabels_3NN_L2)\n",
    "print(accuracy_3NN_L2)"
   ]
  },
  {
   "cell_type": "code",
   "execution_count": null,
   "metadata": {},
   "outputs": [],
   "source": [
    "def accuracies(trainImages, trainLabels, testImages, testLabels, neighbours, metric):\n",
    "    knnClassifier = KnnClassifier(trainImages, trainLabels)\n",
    "    accuracyScores = []\n",
    "    for neighbour in neighbours:\n",
    "        predictedLabelsNM = knnClassifier.classifyImages(testImages, neighbour, metric)\n",
    "        accuracyNM = accuracy(testLabels, predictedLabelsNM)\n",
    "        accuracyScores.append(accuracyNM)\n",
    "    return accuracyScores"
   ]
  },
  {
   "cell_type": "code",
   "execution_count": null,
   "metadata": {},
   "outputs": [],
   "source": [
    "neighbours = [1, 3, 5, 7, 9]"
   ]
  },
  {
   "cell_type": "code",
   "execution_count": null,
   "metadata": {},
   "outputs": [],
   "source": [
    "accuracyScoresL2 = accuracies(trainImages, trainLabels, testImages, testLabels, neighbours, \"L2\")\n",
    "np.savetxt(\"acuratete_L2.txt\", accuracyScoresL2, fmt=\"%1.3f\")"
   ]
  },
  {
   "cell_type": "code",
   "execution_count": null,
   "metadata": {},
   "outputs": [],
   "source": [
    "plt.plot(neighbours, accuracyScoresL2, label=\"L2\")\n",
    "plt.xlabel(\"neighbours\")\n",
    "plt.ylabel(\"accuracy\")\n",
    "plt.legend()\n",
    "plt.show()"
   ]
  },
  {
   "cell_type": "code",
   "execution_count": null,
   "metadata": {},
   "outputs": [],
   "source": [
    "accuracyScoresL1 = accuracies(trainImages, trainLabels, testImages, testLabels, neighbours, \"L1\")\n",
    "np.savetxt(\"acuratete_L1.txt\", accuracyScoresL1, fmt=\"%1.3f\")"
   ]
  },
  {
   "cell_type": "code",
   "execution_count": null,
   "metadata": {},
   "outputs": [],
   "source": [
    "plt.plot(neighbours, accuracyScoresL1, label=\"L1\")\n",
    "plt.plot(neighbours, accuracyScoresL2, label=\"L2\")\n",
    "plt.xlabel(\"neighbours\")\n",
    "plt.ylabel(\"accuracy\")\n",
    "plt.legend()\n",
    "plt.show()"
   ]
  }
 ],
 "metadata": {
  "interpreter": {
   "hash": "27cfd4c09a6522eee305c42ac625359a38bc28b92588020f1e8f6071f6e6359f"
  },
  "kernelspec": {
   "display_name": "Python 3.10.4 64-bit (windows store)",
   "language": "python",
   "name": "python3"
  },
  "language_info": {
   "codemirror_mode": {
    "name": "ipython",
    "version": 3
   },
   "file_extension": ".py",
   "mimetype": "text/x-python",
   "name": "python",
   "nbconvert_exporter": "python",
   "pygments_lexer": "ipython3",
   "version": "3.10.4"
  },
  "orig_nbformat": 4
 },
 "nbformat": 4,
 "nbformat_minor": 2
}
